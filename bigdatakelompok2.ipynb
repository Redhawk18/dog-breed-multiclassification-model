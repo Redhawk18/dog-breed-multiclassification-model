{
 "cells": [
  {
   "cell_type": "markdown",
   "id": "43ccfc32",
   "metadata": {},
   "source": [
    "In case our environment sucks and we have to bootstrap libraries ourselves."
   ]
  },
  {
   "cell_type": "code",
   "execution_count": null,
   "id": "cad3d515-d699-4874-b287-64c5adf0632e",
   "metadata": {
    "id": "cad3d515-d699-4874-b287-64c5adf0632e"
   },
   "outputs": [],
   "source": [
    "import sys, subprocess\n",
    "# subprocess.run([sys.executable, '-m', 'pip', 'install', 'keras', 'opencv-python', 'tensorflow'])"
   ]
  },
  {
   "cell_type": "code",
   "execution_count": null,
   "id": "7c15c9d2",
   "metadata": {
    "colab": {
     "base_uri": "https://localhost:8080/"
    },
    "executionInfo": {
     "elapsed": 8685,
     "status": "ok",
     "timestamp": 1730123574291,
     "user": {
      "displayName": "Carson Range",
      "userId": "01481770629144719405"
     },
     "user_tz": 240
    },
    "id": "7c15c9d2",
    "outputId": "e59ebf14-19ad-4b78-9a63-239d116c37ff"
   },
   "outputs": [],
   "source": [
    "import os\n",
    "import cv2\n",
    "import numpy as np\n",
    "from PIL import Image\n",
    "import matplotlib.pyplot as plt\n",
    "from sklearn.model_selection import train_test_split\n",
    "import tensorflow as tf\n",
    "\n",
    "from keras.callbacks import ModelCheckpoint\n",
    "from keras.layers import Conv2D, MaxPooling2D, Dense, Flatten, Dropout, BatchNormalization\n",
    "from keras.models import Sequential\n",
    "from keras.saving import load_model\n",
    "\n",
    "print(\"Loaded all libraries\")"
   ]
  },
  {
   "cell_type": "markdown",
   "id": "FpvEkqkRY3YN",
   "metadata": {
    "id": "FpvEkqkRY3YN"
   },
   "source": [
    "Boostrap dataset"
   ]
  },
  {
   "cell_type": "code",
   "execution_count": null,
   "id": "XWS16dPCY1T7",
   "metadata": {
    "colab": {
     "base_uri": "https://localhost:8080/"
    },
    "executionInfo": {
     "elapsed": 21270,
     "status": "ok",
     "timestamp": 1730123595553,
     "user": {
      "displayName": "Carson Range",
      "userId": "01481770629144719405"
     },
     "user_tz": 240
    },
    "id": "XWS16dPCY1T7",
    "outputId": "a9eb6232-d4ee-41f6-8920-7db00619ba30"
   },
   "outputs": [],
   "source": [
    "# prompt: write python code to do this command curl -L -o ~/Downloads/archive.zip\\\n",
    "# https://www.kaggle.com/api/v1/datasets/download/jessicali9530/stanford-dogs-dataset\n",
    "# also unzip it\n",
    "\n",
    "import os\n",
    "import subprocess\n",
    "\n",
    "if not os.path.exists(\"data\"):\n",
    "  print(\"Dataset not downloaded, downloading...\")\n",
    "\n",
    "  !curl -L -o archive.zip https://www.kaggle.com/api/v1/datasets/download/jessicali9530/stanford-dogs-dataset\n",
    "  !unzip -q archive.zip -d data\n",
    "  !rm archive.zip"
   ]
  },
  {
   "cell_type": "code",
   "execution_count": null,
   "id": "61375522",
   "metadata": {
    "colab": {
     "base_uri": "https://localhost:8080/"
    },
    "executionInfo": {
     "elapsed": 12,
     "status": "ok",
     "timestamp": 1730123595554,
     "user": {
      "displayName": "Carson Range",
      "userId": "01481770629144719405"
     },
     "user_tz": 240
    },
    "id": "61375522",
    "outputId": "460ee95f-2d5a-4db9-d123-cbea3d8f87d6"
   },
   "outputs": [],
   "source": [
    "from pathlib import Path\n",
    "fpath = str(Path(\"data/images/Images\").resolve().absolute())\n",
    "random_seed = 42\n",
    "\n",
    "categories = os.listdir(fpath)\n",
    "categories = categories[:20]\n",
    "print(\"List of categories = \",categories,\"\\n\\nNo. of categories = \", len(categories))"
   ]
  },
  {
   "cell_type": "code",
   "execution_count": null,
   "id": "d3e85d69",
   "metadata": {
    "colab": {
     "base_uri": "https://localhost:8080/"
    },
    "executionInfo": {
     "elapsed": 19732,
     "status": "ok",
     "timestamp": 1730123615457,
     "user": {
      "displayName": "Carson Range",
      "userId": "01481770629144719405"
     },
     "user_tz": 240
    },
    "id": "d3e85d69",
    "outputId": "ff6639ce-7b91-4c73-bdc7-2d3d7eff9348"
   },
   "outputs": [],
   "source": [
    "def load_images_and_labels(categories):\n",
    "    img_lst=[]\n",
    "    labels=[]\n",
    "    for index, category in enumerate(categories):\n",
    "        for image_name in os.listdir(fpath+\"/\"+category):\n",
    "            img = cv2.imread(fpath+\"/\"+category+\"/\"+image_name)\n",
    "            img = cv2.cvtColor(img, cv2.COLOR_BGR2RGB)\n",
    "\n",
    "            img_array = Image.fromarray(img, 'RGB')\n",
    "\n",
    "            #resize image to 224 x 224 because the input image resolution for ResNet50 is 224 x 224\n",
    "            resized_img = img_array.resize((224, 224))\n",
    "\n",
    "            img_lst.append(np.array(resized_img))\n",
    "\n",
    "            labels.append(index)\n",
    "    return img_lst, labels\n",
    "\n",
    "images, labels = load_images_and_labels(categories)\n",
    "print(\"No. of images loaded = \",len(images),\"\\nNo. of labels loaded = \",len(labels))\n",
    "print(type(images),type(labels))"
   ]
  },
  {
   "cell_type": "code",
   "execution_count": null,
   "id": "16af3f47",
   "metadata": {
    "colab": {
     "base_uri": "https://localhost:8080/"
    },
    "executionInfo": {
     "elapsed": 219,
     "status": "ok",
     "timestamp": 1730123615664,
     "user": {
      "displayName": "Carson Range",
      "userId": "01481770629144719405"
     },
     "user_tz": 240
    },
    "id": "16af3f47",
    "outputId": "f52c758d-59d4-4f4b-f6b3-ec6bf8f3aaac"
   },
   "outputs": [],
   "source": [
    "images = np.array(images)\n",
    "labels = np.array(labels)\n",
    "\n",
    "print(\"Images shape = \",images.shape,\"\\nLabels shape = \",labels.shape)\n",
    "print(type(images),type(labels))"
   ]
  },
  {
   "cell_type": "code",
   "execution_count": null,
   "id": "d9a5a05e",
   "metadata": {
    "colab": {
     "base_uri": "https://localhost:8080/",
     "height": 829
    },
    "executionInfo": {
     "elapsed": 1771,
     "status": "ok",
     "timestamp": 1730123617428,
     "user": {
      "displayName": "Carson Range",
      "userId": "01481770629144719405"
     },
     "user_tz": 240
    },
    "id": "d9a5a05e",
    "outputId": "feea8869-a88e-4308-c08c-c21ba56fdc98"
   },
   "outputs": [],
   "source": [
    "def display_rand_images(images, labels):\n",
    "    plt.figure(1 , figsize = (19 , 10))\n",
    "    n = 0\n",
    "    for i in range(9):\n",
    "        n += 1\n",
    "        r = np.random.randint(0 , images.shape[0] , 1)\n",
    "\n",
    "        plt.subplot(3 , 3 , n)\n",
    "        plt.subplots_adjust(hspace = 0.3 , wspace = 0.3)\n",
    "        plt.imshow(images[r[0]])\n",
    "\n",
    "        plt.title('Cute Dog : {}'.format(labels[r[0]]))\n",
    "        plt.xticks([])\n",
    "        plt.yticks([])\n",
    "\n",
    "    plt.show()\n",
    "\n",
    "display_rand_images(images, labels)"
   ]
  },
  {
   "cell_type": "code",
   "execution_count": null,
   "id": "d2da52dd",
   "metadata": {
    "colab": {
     "base_uri": "https://localhost:8080/"
    },
    "executionInfo": {
     "elapsed": 35,
     "status": "ok",
     "timestamp": 1730123617429,
     "user": {
      "displayName": "Carson Range",
      "userId": "01481770629144719405"
     },
     "user_tz": 240
    },
    "id": "d2da52dd",
    "outputId": "7fa8ea70-1b1e-428d-ee91-a1dc6a2c6af1"
   },
   "outputs": [],
   "source": [
    "#1-step in data shuffling\n",
    "\n",
    "#get equally spaced numbers in a given range\n",
    "n = np.arange(images.shape[0])\n",
    "print(\"'n' values before shuffling = \",n)\n",
    "\n",
    "#shuffle all the equally spaced values in list 'n'\n",
    "np.random.seed(random_seed)\n",
    "np.random.shuffle(n)\n",
    "print(\"\\n'n' values after shuffling = \",n)"
   ]
  },
  {
   "cell_type": "code",
   "execution_count": null,
   "id": "22fe09d3",
   "metadata": {
    "colab": {
     "base_uri": "https://localhost:8080/"
    },
    "executionInfo": {
     "elapsed": 22,
     "status": "ok",
     "timestamp": 1730123617430,
     "user": {
      "displayName": "Carson Range",
      "userId": "01481770629144719405"
     },
     "user_tz": 240
    },
    "id": "22fe09d3",
    "outputId": "d748b0f9-b28d-4265-a6df-29bad892ed47"
   },
   "outputs": [],
   "source": [
    "#2-step in data shuffling\n",
    "\n",
    "#shuffle images and corresponding labels data in both the lists\n",
    "images = images[n]\n",
    "labels = labels[n]\n",
    "\n",
    "print(\"Images shape after shuffling = \",images.shape,\"\\nLabels shape after shuffling = \",labels.shape)"
   ]
  },
  {
   "cell_type": "code",
   "execution_count": null,
   "id": "b2adaf49",
   "metadata": {
    "colab": {
     "base_uri": "https://localhost:8080/",
     "height": 829
    },
    "executionInfo": {
     "elapsed": 1068,
     "status": "ok",
     "timestamp": 1730123618484,
     "user": {
      "displayName": "Carson Range",
      "userId": "01481770629144719405"
     },
     "user_tz": 240
    },
    "id": "b2adaf49",
    "outputId": "9a37fba5-ff5f-4874-d501-6047199c71c6"
   },
   "outputs": [],
   "source": [
    "display_rand_images(images, labels)"
   ]
  },
  {
   "cell_type": "code",
   "execution_count": null,
   "id": "4d74f136",
   "metadata": {
    "colab": {
     "base_uri": "https://localhost:8080/"
    },
    "executionInfo": {
     "elapsed": 13,
     "status": "ok",
     "timestamp": 1730123618485,
     "user": {
      "displayName": "Carson Range",
      "userId": "01481770629144719405"
     },
     "user_tz": 240
    },
    "id": "4d74f136",
    "outputId": "8e919f74-437d-4880-8496-919380196c3c"
   },
   "outputs": [],
   "source": [
    "x_train, x_test, y_train, y_test = train_test_split(images, labels, test_size = 0.2, random_state = random_seed)\n",
    "\n",
    "print(\"x_train shape = \",x_train.shape)\n",
    "print(\"y_train shape = \",y_train.shape)\n",
    "print(\"\\nx_test shape = \",x_test.shape)\n",
    "print(\"y_test shape = \",y_test.shape)"
   ]
  },
  {
   "cell_type": "code",
   "execution_count": null,
   "id": "8c7d5b7c",
   "metadata": {
    "colab": {
     "base_uri": "https://localhost:8080/",
     "height": 829
    },
    "executionInfo": {
     "elapsed": 932,
     "status": "ok",
     "timestamp": 1730123619410,
     "user": {
      "displayName": "Carson Range",
      "userId": "01481770629144719405"
     },
     "user_tz": 240
    },
    "id": "8c7d5b7c",
    "outputId": "047c8ee0-6c03-4729-e9f0-641c3e56eaf6"
   },
   "outputs": [],
   "source": [
    "display_rand_images(x_train, y_train)"
   ]
  },
  {
   "cell_type": "code",
   "execution_count": null,
   "id": "79fa04ea",
   "metadata": {
    "colab": {
     "base_uri": "https://localhost:8080/",
     "height": 1000
    },
    "executionInfo": {
     "elapsed": 993,
     "status": "ok",
     "timestamp": 1730123620396,
     "user": {
      "displayName": "Carson Range",
      "userId": "01481770629144719405"
     },
     "user_tz": 240
    },
    "id": "79fa04ea",
    "outputId": "a0957ca2-a217-4e52-d149-66f65044db9c"
   },
   "outputs": [],
   "source": [
    "from keras.models import Sequential\n",
    "from keras.layers import Conv2D, MaxPooling2D, BatchNormalization, Flatten, Dense, Dropout\n",
    "\n",
    "model = Sequential()\n",
    "\n",
    "# 1st Conv layer (input shape defined here)\n",
    "model.add(Conv2D(filters=96, kernel_size=(11,11), strides=(4,4), padding=\"valid\", activation=\"relu\", input_shape=(224,224,3)))\n",
    "\n",
    "# 1st Max Pool layer\n",
    "model.add(MaxPooling2D(pool_size=(3,3), strides=(2,2)))\n",
    "\n",
    "model.add(BatchNormalization())\n",
    "\n",
    "# 2nd Conv layer\n",
    "model.add(Conv2D(filters=256, kernel_size=(5,5), strides=(1,1), padding=\"valid\", activation=\"relu\"))\n",
    "\n",
    "# 2nd Max Pool layer\n",
    "model.add(MaxPooling2D(pool_size=(3,3), strides=(2,2)))\n",
    "\n",
    "model.add(BatchNormalization())\n",
    "\n",
    "# 3rd Conv layer\n",
    "model.add(Conv2D(filters=384, kernel_size=(3,3), strides=(1,1), padding=\"valid\", activation=\"relu\"))\n",
    "\n",
    "# 4th Conv layer\n",
    "model.add(Conv2D(filters=384, kernel_size=(3,3), strides=(1,1), padding=\"valid\", activation=\"relu\"))\n",
    "\n",
    "# 5th Conv layer\n",
    "model.add(Conv2D(filters=256, kernel_size=(3,3), strides=(1,1), padding=\"valid\", activation=\"relu\"))\n",
    "\n",
    "# 3rd Max Pool layer\n",
    "model.add(MaxPooling2D(pool_size=(3,3), strides=(2,2)))\n",
    "\n",
    "model.add(BatchNormalization())\n",
    "\n",
    "model.add(Flatten())\n",
    "\n",
    "# 1st Dense layer (no input_shape here)\n",
    "model.add(Dense(4096, activation=\"relu\"))\n",
    "\n",
    "model.add(Dropout(0.4))\n",
    "\n",
    "model.add(BatchNormalization())\n",
    "\n",
    "# 2nd Dense layer\n",
    "model.add(Dense(4096, activation=\"relu\"))\n",
    "\n",
    "model.add(Dropout(0.4))\n",
    "\n",
    "model.add(BatchNormalization())\n",
    "\n",
    "# 3rd Dense layer\n",
    "model.add(Dense(1000, activation=\"relu\"))\n",
    "\n",
    "model.add(Dropout(0.4))\n",
    "\n",
    "model.add(BatchNormalization())\n",
    "\n",
    "# Output layer\n",
    "model.add(Dense(20, activation=\"softmax\"))\n",
    "\n",
    "model.summary()\n"
   ]
  },
  {
   "cell_type": "code",
   "execution_count": null,
   "id": "46ea1ee6",
   "metadata": {
    "id": "46ea1ee6"
   },
   "outputs": [],
   "source": [
    "model.compile(optimizer=\"adam\", loss=\"sparse_categorical_crossentropy\", metrics=[\"accuracy\"])"
   ]
  },
  {
   "cell_type": "markdown",
   "id": "76ba1794-a216-4e22-a0c3-648eb1232c91",
   "metadata": {
    "id": "76ba1794-a216-4e22-a0c3-648eb1232c91"
   },
   "source": [
    "Train my own custom model"
   ]
  },
  {
   "cell_type": "code",
   "execution_count": null,
   "id": "f926e861",
   "metadata": {
    "colab": {
     "base_uri": "https://localhost:8080/"
    },
    "id": "f926e861",
    "outputId": "adb8c014-d198-46a9-ca1d-6f0c90e04e98"
   },
   "outputs": [],
   "source": [
    "# checkpoints don't work.\n",
    "model_checkpoint = ModelCheckpoint(\n",
    "    filepath=\"./custom.weights.h5\",\n",
    "    save_weights_only=True,\n",
    "    monitor='val_accuracy',\n",
    "    mode='max',\n",
    "    save_best_only=True)\n",
    "\n",
    "custom_filepath = Path(\"models/custom.h5\").resolve().absolute()\n",
    "if custom_filepath.exists():    \n",
    "    model = load_model(custom_filepath)\n",
    "\n",
    "else:\n",
    "    model.fit(x_train, y_train, epochs=500, callbacks=[model_checkpoint])\n",
    "    model.save(custom_filepath, save_format=\"h5\")"
   ]
  },
  {
   "cell_type": "markdown",
   "id": "c7391d0b-a037-4524-8e8c-a81f33244b28",
   "metadata": {
    "id": "c7391d0b-a037-4524-8e8c-a81f33244b28"
   },
   "source": [
    "Setup Resnet and train it."
   ]
  },
  {
   "cell_type": "code",
   "execution_count": null,
   "id": "8d2f901c-3787-4845-8979-6c61d3c66b59",
   "metadata": {
    "id": "8d2f901c-3787-4845-8979-6c61d3c66b59"
   },
   "outputs": [],
   "source": [
    "from keras.applications import ResNet50V2\n",
    "\n",
    "resnet = ResNet50V2()\n",
    "resnet.compile(optimizer=\"adam\", loss=\"sparse_categorical_crossentropy\", metrics=[\"accuracy\"])\n",
    "\n",
    "model_checkpoint = ModelCheckpoint(\n",
    "    filepath=\"./resnet.weights.h5\",\n",
    "    save_weights_only=True,\n",
    "    monitor='val_accuracy',\n",
    "    mode='max',\n",
    "    save_best_only=True)\n",
    "\n",
    "resnet_filepath = Path(\"models/resnet.h5\").resolve().absolute()\n",
    "if resnet_filepath.exists():    \n",
    "    model = load_model(resnet_filepath)\n",
    "\n",
    "else:\n",
    "    resnet.fit(x_train, y_train, epochs=100, callbacks=[model_checkpoint])\n",
    "    resnet.save(resnet_filepath, save_format=\"h5\")"
   ]
  },
  {
   "cell_type": "code",
   "execution_count": null,
   "id": "e0366697",
   "metadata": {
    "id": "e0366697"
   },
   "outputs": [],
   "source": [
    "model_loss, model_accuracy = model.evaluate(x_test, y_test)\n",
    "resnet_loss, resnet_accuracy = resnet.evaluate(x_test, y_test)\n",
    "\n",
    "print(f\"custom loss: {model_loss} and accuracy: {model_accuracy}\")\n",
    "print(f\"resnet loss: {resnet_loss} and accuracy: {resnet_accuracy}\")"
   ]
  },
  {
   "cell_type": "code",
   "execution_count": null,
   "id": "f953b571",
   "metadata": {
    "id": "f953b571"
   },
   "outputs": [],
   "source": [
    "model_pred = model.predict(x_test)\n",
    "resnet_pred = model.predict(x_test)\n",
    "\n",
    "model_pred.shape\n",
    "resnet_pred.shape\n",
    "\n",
    "r = np.random.randint( 0, x_test.shape[0], 1)"
   ]
  },
  {
   "cell_type": "code",
   "execution_count": null,
   "id": "26750680",
   "metadata": {
    "id": "26750680"
   },
   "outputs": [],
   "source": [
    "def show_pred(pred, model_name: str, r: int):\n",
    "    plt.figure(1 , figsize = (19 , 10))\n",
    "    n = 0\n",
    "\n",
    "    for i in range(9):\n",
    "        n += 1\n",
    "\n",
    "        plt.subplot(3, 3, n)\n",
    "        plt.subplots_adjust(hspace = 0.3, wspace = 0.3)\n",
    "\n",
    "        plt.imshow(x_test[r[0]])\n",
    "        plt.title(f'{model_name}: Actual = {y_test[r[0]]}, Predicted = {(y_test[r[0]]*pred[r[0]][y_test[r[0]]]):.3f}')\n",
    "        plt.xticks([]) , plt.yticks([])\n",
    "        plt.bar_label\n",
    "\n",
    "    plt.show()"
   ]
  },
  {
   "cell_type": "code",
   "execution_count": null,
   "id": "1b5ff36b-8eb8-4e6e-ae79-817e09232747",
   "metadata": {
    "id": "1b5ff36b-8eb8-4e6e-ae79-817e09232747"
   },
   "outputs": [],
   "source": [
    "show_pred(model_pred, \"custom\", r)"
   ]
  },
  {
   "cell_type": "code",
   "execution_count": null,
   "id": "fe258700-096d-4ced-91ae-a9ff60abf7a9",
   "metadata": {
    "id": "fe258700-096d-4ced-91ae-a9ff60abf7a9"
   },
   "outputs": [],
   "source": [
    "show_pred(resnet_pred, \"resnet\", r)"
   ]
  }
 ],
 "metadata": {
  "colab": {
   "provenance": []
  },
  "kaggle": {
   "accelerator": "nvidiaTeslaT4",
   "dataSources": [
    {
     "datasetId": 129000,
     "sourceId": 308849,
     "sourceType": "datasetVersion"
    },
    {
     "datasetId": 119698,
     "sourceId": 791828,
     "sourceType": "datasetVersion"
    }
   ],
   "dockerImageVersionId": 30786,
   "isGpuEnabled": true,
   "isInternetEnabled": false,
   "language": "python",
   "sourceType": "notebook"
  },
  "kernel_info": {
   "name": "python310-sdkv2"
  },
  "kernelspec": {
   "display_name": "Python 3",
   "language": "python",
   "name": "python3"
  },
  "language_info": {
   "codemirror_mode": {
    "name": "ipython",
    "version": 3
   },
   "file_extension": ".py",
   "mimetype": "text/x-python",
   "name": "python",
   "nbconvert_exporter": "python",
   "pygments_lexer": "ipython3",
   "version": "3.11.10"
  },
  "microsoft": {
   "host": {
    "AzureML": {
     "notebookHasBeenCompleted": true
    }
   },
   "ms_spell_check": {
    "ms_spell_check_language": "en"
   }
  },
  "nteract": {
   "version": "nteract-front-end@1.0.0"
  },
  "papermill": {
   "default_parameters": {},
   "duration": 498.018699,
   "end_time": "2024-10-10T06:21:24.661347",
   "environment_variables": {},
   "exception": null,
   "input_path": "__notebook__.ipynb",
   "output_path": "__notebook__.ipynb",
   "parameters": {},
   "start_time": "2024-10-10T06:13:06.642648",
   "version": "2.6.0"
  }
 },
 "nbformat": 4,
 "nbformat_minor": 5
}
